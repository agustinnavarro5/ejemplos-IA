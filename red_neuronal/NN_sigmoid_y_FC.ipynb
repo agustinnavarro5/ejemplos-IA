{
  "nbformat": 4,
  "nbformat_minor": 0,
  "metadata": {
    "colab": {
      "name": "NN sigmoid y FC.ipynb",
      "provenance": [],
      "collapsed_sections": [],
      "mount_file_id": "1hGZx3H5TzMYoU6U5KKXh1BhTsa7t932F",
      "authorship_tag": "ABX9TyMOhEJY68rXrXO9pQ02pwzT",
      "include_colab_link": true
    },
    "kernelspec": {
      "name": "python3",
      "display_name": "Python 3"
    }
  },
  "cells": [
    {
      "cell_type": "markdown",
      "metadata": {
        "id": "view-in-github",
        "colab_type": "text"
      },
      "source": [
        "<a href=\"https://colab.research.google.com/github/vchibilisco/ejemplos-IA/blob/master/red_neuronal/NN_sigmoid_y_FC.ipynb\" target=\"_parent\"><img src=\"https://colab.research.google.com/assets/colab-badge.svg\" alt=\"Open In Colab\"/></a>"
      ]
    },
    {
      "cell_type": "code",
      "metadata": {
        "id": "eBhSMfNq8g6w"
      },
      "source": [
        "import numpy"
      ],
      "execution_count": 1,
      "outputs": []
    },
    {
      "cell_type": "code",
      "metadata": {
        "id": "TvoV_BEE-IJJ"
      },
      "source": [
        "\n",
        "def neurona(x1, x2, w1, w2, b):\n",
        "  z = w1 * x1 + w2 * x2 + b\n",
        "  return sigmoid(z)\n",
        "\n",
        "def sigmoid(x):\n",
        "  return 1/(1 + numpy.exp(-x))"
      ],
      "execution_count": 2,
      "outputs": []
    },
    {
      "cell_type": "code",
      "metadata": {
        "id": "-1cjB31JAXLA",
        "colab": {
          "base_uri": "https://localhost:8080/"
        },
        "outputId": "a6328038-2a69-4917-c22c-c8c796913fe1"
      },
      "source": [
        "w1 = numpy.random.randn()\n",
        "w2 = numpy.random.randn()\n",
        "b = numpy.random.randn()\n",
        "print(w1)\n",
        "print(w2)\n",
        "print(b)"
      ],
      "execution_count": 3,
      "outputs": [
        {
          "output_type": "stream",
          "text": [
            "-1.1472545035187736\n",
            "-0.036556620523641746\n",
            "0.17029024221372918\n"
          ],
          "name": "stdout"
        }
      ]
    },
    {
      "cell_type": "code",
      "metadata": {
        "id": "sA03BQH2BADK",
        "colab": {
          "base_uri": "https://localhost:8080/"
        },
        "outputId": "019fdbdb-ff0d-4971-efd2-4f000b3e1ec1"
      },
      "source": [
        "pred = neurona(3, 1.5, w1, w2, b)\n",
        "pred"
      ],
      "execution_count": 4,
      "outputs": [
        {
          "output_type": "execute_result",
          "data": {
            "text/plain": [
              "0.03467960836953989"
            ]
          },
          "metadata": {
            "tags": []
          },
          "execution_count": 4
        }
      ]
    },
    {
      "cell_type": "code",
      "metadata": {
        "id": "XLxwSainBc5T",
        "colab": {
          "base_uri": "https://localhost:8080/",
          "height": 34
        },
        "outputId": "014e5cbf-ca84-43cd-ee1a-768c20f34c53"
      },
      "source": [
        "pred = neurona(2, 1, w1, w2 ,b)\n",
        "pred"
      ],
      "execution_count": null,
      "outputs": [
        {
          "output_type": "execute_result",
          "data": {
            "text/plain": [
              "0.9119784910567738"
            ]
          },
          "metadata": {
            "tags": []
          },
          "execution_count": 99
        }
      ]
    },
    {
      "cell_type": "code",
      "metadata": {
        "id": "L_g64eRfBhzV",
        "colab": {
          "base_uri": "https://localhost:8080/"
        },
        "outputId": "fb0336f6-6346-45ec-d1ab-cf4e2be3c614"
      },
      "source": [
        "pred = neurona(4, 1.5, w1, w2, b)\n",
        "pred"
      ],
      "execution_count": 5,
      "outputs": [
        {
          "output_type": "execute_result",
          "data": {
            "text/plain": [
              "0.011277961775823379"
            ]
          },
          "metadata": {
            "tags": []
          },
          "execution_count": 5
        }
      ]
    },
    {
      "cell_type": "code",
      "metadata": {
        "id": "igR-iOp-CCD2",
        "colab": {
          "base_uri": "https://localhost:8080/"
        },
        "outputId": "099ca243-2ab5-4cd5-ae80-44aaa3bdca5c"
      },
      "source": [
        "# Funcion costo\n",
        "# La función de coste trata de determinar\n",
        "# el error entre el valor estimado y el valor real,\n",
        "# con el fin de optimizar los parámetros de la red neuronal\n",
        "# (pred - Y_esperado)^2 Error cuadratico\n",
        "\n",
        "# Minimizar, se realiza cambiando los pesos\n",
        "Y_esperado = 4\n",
        "pred = neurona(2, 1, w1, w2 ,b)\n",
        "m = 1\n",
        "print(pred)\n",
        "def cost(b):\n",
        "  J = (1/(2 * m)) * (b - Y_esperado) ** 2\n",
        "  return J\n",
        "\n",
        "cost(pred)"
      ],
      "execution_count": 6,
      "outputs": [
        {
          "output_type": "stream",
          "text": [
            "0.10332858851733583\n"
          ],
          "name": "stdout"
        },
        {
          "output_type": "execute_result",
          "data": {
            "text/plain": [
              "7.59202404453315"
            ]
          },
          "metadata": {
            "tags": []
          },
          "execution_count": 6
        }
      ]
    },
    {
      "cell_type": "code",
      "metadata": {
        "id": "qhQkn85sRcTj",
        "colab": {
          "base_uri": "https://localhost:8080/"
        },
        "outputId": "5d4e2859-e881-4b65-d3c1-e4908740afda"
      },
      "source": [
        "#Ejemplo precio de casas basado en m2\n",
        "\n",
        "# 200m2 , $15000\n",
        "# 230m2 , $18000\n",
        "# 100m2 , $10000\n",
        "# 150m2 , $13000\n",
        "\n",
        "# Definir X\n",
        "X = numpy.array([\n",
        "     [200, 2],\n",
        "     [230, 3],\n",
        "     [100, 1],\n",
        "     [150, 1]\n",
        "    ])\n",
        "\n",
        "print(X)\n",
        "X.shape"
      ],
      "execution_count": 7,
      "outputs": [
        {
          "output_type": "stream",
          "text": [
            "[[200   2]\n",
            " [230   3]\n",
            " [100   1]\n",
            " [150   1]]\n"
          ],
          "name": "stdout"
        },
        {
          "output_type": "execute_result",
          "data": {
            "text/plain": [
              "(4, 2)"
            ]
          },
          "metadata": {
            "tags": []
          },
          "execution_count": 7
        }
      ]
    },
    {
      "cell_type": "code",
      "metadata": {
        "id": "Qvk5iW1zTXgQ",
        "colab": {
          "base_uri": "https://localhost:8080/"
        },
        "outputId": "755c4a83-fe50-4ba1-ca10-e76c82ef06c7"
      },
      "source": [
        "# Definir Y\n",
        "Y = numpy.array([\n",
        "     15000,\n",
        "     18000,\n",
        "     10000,\n",
        "     13000\n",
        "])\n",
        "\n",
        "print(Y)\n",
        "\n",
        "Y.shape"
      ],
      "execution_count": 8,
      "outputs": [
        {
          "output_type": "stream",
          "text": [
            "[15000 18000 10000 13000]\n"
          ],
          "name": "stdout"
        },
        {
          "output_type": "execute_result",
          "data": {
            "text/plain": [
              "(4,)"
            ]
          },
          "metadata": {
            "tags": []
          },
          "execution_count": 8
        }
      ]
    },
    {
      "cell_type": "code",
      "metadata": {
        "id": "ghI4o5X0T4FZ",
        "colab": {
          "base_uri": "https://localhost:8080/"
        },
        "outputId": "cc024220-f416-42bc-8a04-a7e9e19db77d"
      },
      "source": [
        "\n",
        "# Definir W , cantidad de caracteristicas + 1\n",
        "W = numpy.array([numpy.random.rand(\n",
        "    numpy.size(X,1) + 1\n",
        ")])\n",
        "print(W)\n",
        "W.shape"
      ],
      "execution_count": 9,
      "outputs": [
        {
          "output_type": "stream",
          "text": [
            "[[0.44173029 0.01657851 0.58747523]]\n"
          ],
          "name": "stdout"
        },
        {
          "output_type": "execute_result",
          "data": {
            "text/plain": [
              "(1, 3)"
            ]
          },
          "metadata": {
            "tags": []
          },
          "execution_count": 9
        }
      ]
    },
    {
      "cell_type": "code",
      "metadata": {
        "id": "FnJi_ck8chYP"
      },
      "source": [
        "def capaDeNeurona(X, W):\n",
        "  arregloDeUnos = numpy.array(\n",
        "    numpy.ones(\n",
        "        (numpy.size(X,0),1),\n",
        "        dtype=int\n",
        "        )\n",
        "  )\n",
        "  X_red = numpy.append(arregloDeUnos, X, axis=1)\n",
        "\n",
        "  X_transpuesta = X_red.transpose()\n",
        "\n",
        "  #print(f'shape W:\\n{W.shape}')\n",
        "  #print(f'shape X_transpuesta:\\n{X_transpuesta.shape}')\n",
        "  z = numpy.matmul(W, X_transpuesta)\n",
        "  \n",
        "  #print(f'shape z:\\n{z.shape}')\n",
        "  #print(f'Value z:\\n{z}')\n",
        "  a = sigmoid(z)\n",
        "  return a"
      ],
      "execution_count": 14,
      "outputs": []
    },
    {
      "cell_type": "code",
      "metadata": {
        "id": "09uzM78jeKOt",
        "colab": {
          "base_uri": "https://localhost:8080/"
        },
        "outputId": "50b61490-0654-487b-b7de-563e263e271f"
      },
      "source": [
        "prediction = capaDeNeurona(X, W)\n",
        "prediction"
      ],
      "execution_count": 15,
      "outputs": [
        {
          "output_type": "execute_result",
          "data": {
            "text/plain": [
              "array([[0.9928423 , 0.99756947, 0.93625855, 0.9711391 ]])"
            ]
          },
          "metadata": {
            "tags": []
          },
          "execution_count": 15
        }
      ]
    },
    {
      "cell_type": "code",
      "metadata": {
        "id": "cGyzXxI9lU4H"
      },
      "source": [
        "def costMatriz(pred, Y):\n",
        "  m = len(Y)\n",
        "  diff = (pred - Y) ** 2\n",
        "\n",
        "  #print(f'diff:\\n{diff}')\n",
        "\n",
        "  J = (1/(2 * m)) * numpy.sum(diff)\n",
        "  return J"
      ],
      "execution_count": 16,
      "outputs": []
    },
    {
      "cell_type": "code",
      "metadata": {
        "id": "g8gzdIZmmHwA",
        "colab": {
          "base_uri": "https://localhost:8080/"
        },
        "outputId": "e07286bb-26cf-40d5-80ba-efb1525d096d"
      },
      "source": [
        "costMatriz(prediction, Y)"
      ],
      "execution_count": 17,
      "outputs": [
        {
          "output_type": "execute_result",
          "data": {
            "text/plain": [
              "102236291.40536226"
            ]
          },
          "metadata": {
            "tags": []
          },
          "execution_count": 17
        }
      ]
    }
  ]
}