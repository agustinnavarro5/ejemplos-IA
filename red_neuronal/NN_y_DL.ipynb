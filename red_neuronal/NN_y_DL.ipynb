{
  "nbformat": 4,
  "nbformat_minor": 0,
  "metadata": {
    "colab": {
      "name": "NN y DL.ipynb",
      "provenance": [],
      "authorship_tag": "ABX9TyMbm266Q+jMZO+sIZdsERkD",
      "include_colab_link": true
    },
    "kernelspec": {
      "name": "python3",
      "display_name": "Python 3"
    }
  },
  "cells": [
    {
      "cell_type": "markdown",
      "metadata": {
        "id": "view-in-github",
        "colab_type": "text"
      },
      "source": [
        "<a href=\"https://colab.research.google.com/github/vchibilisco/ejemplos-IA/blob/master/red_neuronal/NN_y_DL.ipynb\" target=\"_parent\"><img src=\"https://colab.research.google.com/assets/colab-badge.svg\" alt=\"Open In Colab\"/></a>"
      ]
    },
    {
      "cell_type": "markdown",
      "metadata": {
        "id": "Voz9OJfjf0Yw"
      },
      "source": [
        "Calcule las salidas de la capa de neuronas"
      ]
    },
    {
      "cell_type": "code",
      "metadata": {
        "id": "yFI7MmJIZu0O"
      },
      "source": [
        "import numpy as np"
      ],
      "execution_count": 1,
      "outputs": []
    },
    {
      "cell_type": "code",
      "metadata": {
        "id": "U3y3m1keZ-GO",
        "colab": {
          "base_uri": "https://localhost:8080/"
        },
        "outputId": "2b31a7ad-f8bc-4740-a67d-23259c5a5c3a"
      },
      "source": [
        "X = np.array([2, 1, -3,1])\n",
        "X"
      ],
      "execution_count": 2,
      "outputs": [
        {
          "output_type": "execute_result",
          "data": {
            "text/plain": [
              "array([ 2,  1, -3,  1])"
            ]
          },
          "metadata": {
            "tags": []
          },
          "execution_count": 2
        }
      ]
    },
    {
      "cell_type": "code",
      "metadata": {
        "id": "CLALaWPWcHU-",
        "colab": {
          "base_uri": "https://localhost:8080/"
        },
        "outputId": "1dba6dae-e678-448e-949f-e46fa9183cc6"
      },
      "source": [
        "W = np.array([[0.5 , 1 ,2, 3], [3, -1, -2, -5]])\n",
        "W"
      ],
      "execution_count": 3,
      "outputs": [
        {
          "output_type": "execute_result",
          "data": {
            "text/plain": [
              "array([[ 0.5,  1. ,  2. ,  3. ],\n",
              "       [ 3. , -1. , -2. , -5. ]])"
            ]
          },
          "metadata": {
            "tags": []
          },
          "execution_count": 3
        }
      ]
    },
    {
      "cell_type": "code",
      "metadata": {
        "id": "b9_I-I8accIw",
        "colab": {
          "base_uri": "https://localhost:8080/"
        },
        "outputId": "db2beefd-0d35-47f2-9101-5baf576d338d"
      },
      "source": [
        "z = np.matmul(W, X)\n",
        "z"
      ],
      "execution_count": 4,
      "outputs": [
        {
          "output_type": "execute_result",
          "data": {
            "text/plain": [
              "array([-1.,  6.])"
            ]
          },
          "metadata": {
            "tags": []
          },
          "execution_count": 4
        }
      ]
    },
    {
      "cell_type": "code",
      "metadata": {
        "id": "s9VuL02QsuSm",
        "colab": {
          "base_uri": "https://localhost:8080/"
        },
        "outputId": "98c319ea-9232-4267-ef2a-abe6a1ec4919"
      },
      "source": [
        "np.maximum(0,z)"
      ],
      "execution_count": 5,
      "outputs": [
        {
          "output_type": "execute_result",
          "data": {
            "text/plain": [
              "array([0., 6.])"
            ]
          },
          "metadata": {
            "tags": []
          },
          "execution_count": 5
        }
      ]
    },
    {
      "cell_type": "markdown",
      "metadata": {
        "id": "Luj7Swd4f4p9"
      },
      "source": [
        "Calcule la cantidad de parámetros de la siguiente red neuronal.\n"
      ]
    },
    {
      "cell_type": "code",
      "metadata": {
        "id": "gkWoussEfFtm"
      },
      "source": [
        "from keras import Sequential\n",
        "from keras.layers import Dense"
      ],
      "execution_count": 6,
      "outputs": []
    },
    {
      "cell_type": "code",
      "metadata": {
        "id": "BuKjMeLlfyEg",
        "colab": {
          "base_uri": "https://localhost:8080/"
        },
        "outputId": "16499fc6-88c8-46dd-fbc2-e80312fab2b6"
      },
      "source": [
        "model = Sequential()\n",
        "model.add(Dense(5, input_dim=10, activation='tanh'))\n",
        "model.add(Dense(4, activation='tanh'))\n",
        "model.add(Dense(3, activation='softmax'))\n",
        "\n",
        "model.summary()"
      ],
      "execution_count": 7,
      "outputs": [
        {
          "output_type": "stream",
          "text": [
            "Model: \"sequential\"\n",
            "_________________________________________________________________\n",
            "Layer (type)                 Output Shape              Param #   \n",
            "=================================================================\n",
            "dense (Dense)                (None, 5)                 55        \n",
            "_________________________________________________________________\n",
            "dense_1 (Dense)              (None, 4)                 24        \n",
            "_________________________________________________________________\n",
            "dense_2 (Dense)              (None, 3)                 15        \n",
            "=================================================================\n",
            "Total params: 94\n",
            "Trainable params: 94\n",
            "Non-trainable params: 0\n",
            "_________________________________________________________________\n"
          ],
          "name": "stdout"
        }
      ]
    },
    {
      "cell_type": "markdown",
      "metadata": {
        "id": "2zrtf8eJloLP"
      },
      "source": [
        "Vector de Probabilidad"
      ]
    },
    {
      "cell_type": "code",
      "metadata": {
        "id": "yLDlDQLzlrrj"
      },
      "source": [
        "import numpy as np"
      ],
      "execution_count": 8,
      "outputs": []
    },
    {
      "cell_type": "code",
      "metadata": {
        "id": "eh-X2i5TluA9",
        "colab": {
          "base_uri": "https://localhost:8080/"
        },
        "outputId": "a93c616f-32a8-404c-edf1-ae39edfa577c"
      },
      "source": [
        "Z = np.array([2, -1, 1])\n",
        "Z"
      ],
      "execution_count": 9,
      "outputs": [
        {
          "output_type": "execute_result",
          "data": {
            "text/plain": [
              "array([ 2, -1,  1])"
            ]
          },
          "metadata": {
            "tags": []
          },
          "execution_count": 9
        }
      ]
    },
    {
      "cell_type": "code",
      "metadata": {
        "id": "HgFVaXaSmpq0",
        "colab": {
          "base_uri": "https://localhost:8080/"
        },
        "outputId": "dbc615d3-d3b9-4f7a-c013-2fea7222ece9"
      },
      "source": [
        "t = np.exp(Z)\n",
        "t"
      ],
      "execution_count": 10,
      "outputs": [
        {
          "output_type": "execute_result",
          "data": {
            "text/plain": [
              "array([7.3890561 , 0.36787944, 2.71828183])"
            ]
          },
          "metadata": {
            "tags": []
          },
          "execution_count": 10
        }
      ]
    },
    {
      "cell_type": "code",
      "metadata": {
        "id": "xiJdFCf-mxsG",
        "colab": {
          "base_uri": "https://localhost:8080/"
        },
        "outputId": "ba54b97f-907b-4166-aac7-a5cca19accf6"
      },
      "source": [
        "t/np.sum(t)"
      ],
      "execution_count": 11,
      "outputs": [
        {
          "output_type": "execute_result",
          "data": {
            "text/plain": [
              "array([0.70538451, 0.03511903, 0.25949646])"
            ]
          },
          "metadata": {
            "tags": []
          },
          "execution_count": 11
        }
      ]
    }
  ]
}