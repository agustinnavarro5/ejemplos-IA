{
 "cells": [
  {
   "cell_type": "code",
   "execution_count": null,
   "id": "d640f9f8",
   "metadata": {},
   "outputs": [],
   "source": [
    "import numpy\n",
    "import matplotlib.pyplot as plt"
   ]
  },
  {
   "cell_type": "code",
   "execution_count": 25,
   "id": "820fb395",
   "metadata": {},
   "outputs": [
    {
     "name": "stdout",
     "output_type": "stream",
     "text": [
      "X shape\n",
      "(4, 1)\n",
      "Y shape\n",
      "(4,)\n"
     ]
    }
   ],
   "source": [
    "# Ejemplo precio de casas basado en m2\n",
    "#    X1       Y\n",
    "# 200m2 , $15000\n",
    "# 230m2 , $18000\n",
    "# 100m2 , $10000\n",
    "# 150m2 , $13000\n",
    "\n",
    "# Definir X\n",
    "X = numpy.array([\n",
    "     [100],\n",
    "     [130],\n",
    "     [200],\n",
    "     [230]\n",
    "    ], dtype=float)\n",
    "\n",
    "print(\"X shape\")\n",
    "print(X.shape)\n",
    "\n",
    "# Definir Y\n",
    "Y = numpy.array([\n",
    "     10000,\n",
    "     13000,\n",
    "     15000,\n",
    "     18000\n",
    "])\n",
    "\n",
    "print(\"Y shape\")\n",
    "print(Y.shape)"
   ]
  },
  {
   "cell_type": "code",
   "execution_count": 5,
   "id": "fc94e562",
   "metadata": {},
   "outputs": [
    {
     "data": {
      "image/png": "[encoded data removed]",
      "text/plain": [
       "<Figure size 432x288 with 1 Axes>"
      ]
     },
     "metadata": {
      "needs_background": "light"
     },
     "output_type": "display_data"
    }
   ],
   "source": [
    "plt.plot(X[:,0], Y[:])\n",
    "plt.ylabel('Precio')\n",
    "plt.xlabel('Metros cuadrados')\n",
    "plt.show()"
   ]
  },
  {
   "cell_type": "code",
   "execution_count": 6,
   "id": "c8e17a4c",
   "metadata": {},
   "outputs": [
    {
     "name": "stdout",
     "output_type": "stream",
     "text": [
      "W shape\n",
      "(1, 2)\n"
     ]
    }
   ],
   "source": [
    "# Definir W , cantidad de caracteristicas + 1 (bias)\n",
    "W = numpy.array([numpy.random.rand(\n",
    "    numpy.size(X,1) + 1\n",
    ")])\n",
    "print(\"W shape\")\n",
    "print(W.shape)"
   ]
  },
  {
   "cell_type": "code",
   "execution_count": 23,
   "id": "9590f73f",
   "metadata": {},
   "outputs": [],
   "source": [
    "def neurona(X, W):\n",
    "  arregloDeUnos = numpy.array(\n",
    "      numpy.ones(\n",
    "        (numpy.size(X, 0), 1),\n",
    "        dtype=int\n",
    "      )\n",
    "  )\n",
    "\n",
    "  X_red = numpy.append(arregloDeUnos, X, axis=1)\n",
    "  print(X.X_red)\n",
    "  X_transpuesta = X_red.transpose()\n",
    "\n",
    "  z = numpy.matmul(W, X_transpuesta)\n",
    "\n",
    "  return sigmoid(z)\n",
    "\n",
    "def sigmoid(x):\n",
    "  return 1 / ( 1 + numpy.exp(-x) )\n",
    "\n",
    "def lineal(x):\n",
    "  return x"
   ]
  },
  {
   "cell_type": "code",
   "execution_count": 24,
   "id": "19bdb6e8",
   "metadata": {},
   "outputs": [
    {
     "data": {
      "text/plain": [
       "array([[0.99972666, 0.99996945, 0.99999982, 0.99999998]])"
      ]
     },
     "execution_count": 24,
     "metadata": {},
     "output_type": "execute_result"
    }
   ],
   "source": [
    "neurona(X, W)"
   ]
  }
 ],
 "metadata": {
  "kernelspec": {
   "display_name": "Python 3",
   "language": "python",
   "name": "python3"
  },
  "language_info": {
   "codemirror_mode": {
    "name": "ipython",
    "version": 3
   },
   "file_extension": ".py",
   "mimetype": "text/x-python",
   "name": "python",
   "nbconvert_exporter": "python",
   "pygments_lexer": "ipython3",
   "version": "3.8.10"
  }
 },
 "nbformat": 4,
 "nbformat_minor": 5
}
