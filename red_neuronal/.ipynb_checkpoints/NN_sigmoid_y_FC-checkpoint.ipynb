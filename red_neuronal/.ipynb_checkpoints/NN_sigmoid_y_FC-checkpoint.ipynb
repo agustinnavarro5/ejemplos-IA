{
 "cells": [
  {
   "cell_type": "markdown",
   "metadata": {
    "colab_type": "text",
    "id": "view-in-github"
   },
   "source": [
    "<a href=\"https://colab.research.google.com/github/vchibilisco/ejemplos-IA/blob/master/red_neuronal/NN_sigmoid_y_FC.ipynb\" target=\"_parent\"><img src=\"https://colab.research.google.com/assets/colab-badge.svg\" alt=\"Open In Colab\"/></a>"
   ]
  },
  {
   "cell_type": "code",
   "execution_count": 30,
   "metadata": {
    "id": "eBhSMfNq8g6w"
   },
   "outputs": [],
   "source": [
    "import numpy"
   ]
  },
  {
   "cell_type": "code",
   "execution_count": 31,
   "metadata": {
    "id": "TvoV_BEE-IJJ"
   },
   "outputs": [],
   "source": [
    "\n",
    "def neurona(x1, x2, w1, w2, b):\n",
    "  z = w1 * x1 + w2 * x2 + b * 1\n",
    "  return sigmoid(z)\n",
    "\n",
    "def sigmoid(x):\n",
    "  return 1/(1 + numpy.exp(-x))"
   ]
  },
  {
   "cell_type": "code",
   "execution_count": 38,
   "metadata": {
    "colab": {
     "base_uri": "https://localhost:8080/"
    },
    "id": "-1cjB31JAXLA",
    "outputId": "a6328038-2a69-4917-c22c-c8c796913fe1"
   },
   "outputs": [
    {
     "name": "stdout",
     "output_type": "stream",
     "text": [
      "1.7238042642920397\n",
      "-1.3900743326162575\n",
      "-0.5076042338690809\n"
     ]
    }
   ],
   "source": [
    "w1 = numpy.random.randn()\n",
    "w2 = numpy.random.randn()\n",
    "b = numpy.random.randn()\n",
    "print(w1)\n",
    "print(w2)\n",
    "print(b)"
   ]
  },
  {
   "cell_type": "code",
   "execution_count": 39,
   "metadata": {
    "colab": {
     "base_uri": "https://localhost:8080/"
    },
    "id": "sA03BQH2BADK",
    "outputId": "019fdbdb-ff0d-4971-efd2-4f000b3e1ec1"
   },
   "outputs": [
    {
     "data": {
      "text/plain": [
       "0.9294779108352074"
      ]
     },
     "execution_count": 39,
     "metadata": {},
     "output_type": "execute_result"
    }
   ],
   "source": [
    "y = neurona(3, 1.5, w1, w2, b)\n",
    "y"
   ]
  },
  {
   "cell_type": "code",
   "execution_count": 40,
   "metadata": {
    "colab": {
     "base_uri": "https://localhost:8080/",
     "height": 34
    },
    "id": "XLxwSainBc5T",
    "outputId": "014e5cbf-ca84-43cd-ee1a-768c20f34c53"
   },
   "outputs": [
    {
     "data": {
      "text/plain": [
       "0.8249036159569648"
      ]
     },
     "execution_count": 40,
     "metadata": {},
     "output_type": "execute_result"
    }
   ],
   "source": [
    "y = neurona(2, 1, w1, w2 ,b)\n",
    "y"
   ]
  },
  {
   "cell_type": "code",
   "execution_count": 41,
   "metadata": {
    "colab": {
     "base_uri": "https://localhost:8080/"
    },
    "id": "L_g64eRfBhzV",
    "outputId": "fb0336f6-6346-45ec-d1ab-cf4e2be3c614"
   },
   "outputs": [
    {
     "data": {
      "text/plain": [
       "0.9866460787550456"
      ]
     },
     "execution_count": 41,
     "metadata": {},
     "output_type": "execute_result"
    }
   ],
   "source": [
    "y = neurona(4, 1.5, w1, w2, b)\n",
    "y"
   ]
  },
  {
   "cell_type": "code",
   "execution_count": 22,
   "metadata": {
    "colab": {
     "base_uri": "https://localhost:8080/"
    },
    "id": "igR-iOp-CCD2",
    "outputId": "099ca243-2ab5-4cd5-ae80-44aaa3bdca5c"
   },
   "outputs": [
    {
     "name": "stdout",
     "output_type": "stream",
     "text": [
      "0.25995684851620726\n"
     ]
    },
    {
     "data": {
      "text/plain": [
       "6.99396138748041"
      ]
     },
     "execution_count": 22,
     "metadata": {},
     "output_type": "execute_result"
    }
   ],
   "source": [
    "# Funcion costo\n",
    "# La función de coste trata de determinar\n",
    "# el error entre el valor estimado y el valor real,\n",
    "# con el fin de optimizar los parámetros de la red neuronal\n",
    "# (pred - Y_esperado)^2 Error cuadratico\n",
    "\n",
    "# Minimizar, se realiza cambiando los pesos\n",
    "Y_esperado = 4\n",
    "pred = neurona(2, 1, w1, w2 ,b)\n",
    "m = 1\n",
    "print(pred)\n",
    "def cost(b):\n",
    "  J = (1/(2 * m)) * (b - Y_esperado) ** 2\n",
    "  return J\n",
    "\n",
    "cost(pred)"
   ]
  },
  {
   "cell_type": "code",
   "execution_count": 23,
   "metadata": {
    "colab": {
     "base_uri": "https://localhost:8080/"
    },
    "id": "qhQkn85sRcTj",
    "outputId": "5d4e2859-e881-4b65-d3c1-e4908740afda"
   },
   "outputs": [
    {
     "name": "stdout",
     "output_type": "stream",
     "text": [
      "[[200   2]\n",
      " [230   3]\n",
      " [100   1]\n",
      " [150   1]]\n"
     ]
    },
    {
     "data": {
      "text/plain": [
       "(4, 2)"
      ]
     },
     "execution_count": 23,
     "metadata": {},
     "output_type": "execute_result"
    }
   ],
   "source": [
    "#Ejemplo precio de casas basado en m2\n",
    "\n",
    "# 200m2 , 2, $15000\n",
    "# 230m2 , 3, $18000\n",
    "# 100m2 , 1, $10000\n",
    "# 150m2 , 1, $13000\n",
    "\n",
    "# Definir X\n",
    "X = numpy.array([\n",
    "     [200, 2],\n",
    "     [230, 3],\n",
    "     [100, 1],\n",
    "     [150, 1]\n",
    "    ])\n",
    "\n",
    "print(X)\n",
    "X.shape"
   ]
  },
  {
   "cell_type": "code",
   "execution_count": 24,
   "metadata": {
    "colab": {
     "base_uri": "https://localhost:8080/"
    },
    "id": "Qvk5iW1zTXgQ",
    "outputId": "755c4a83-fe50-4ba1-ca10-e76c82ef06c7"
   },
   "outputs": [
    {
     "name": "stdout",
     "output_type": "stream",
     "text": [
      "[15000 18000 10000 13000]\n"
     ]
    },
    {
     "data": {
      "text/plain": [
       "(4,)"
      ]
     },
     "execution_count": 24,
     "metadata": {},
     "output_type": "execute_result"
    }
   ],
   "source": [
    "# Definir Y\n",
    "Y = numpy.array([\n",
    "     15000,\n",
    "     18000,\n",
    "     10000,\n",
    "     13000\n",
    "])\n",
    "\n",
    "print(Y)\n",
    "\n",
    "Y.shape"
   ]
  },
  {
   "cell_type": "code",
   "execution_count": 25,
   "metadata": {
    "colab": {
     "base_uri": "https://localhost:8080/"
    },
    "id": "ghI4o5X0T4FZ",
    "outputId": "cc024220-f416-42bc-8a04-a7e9e19db77d"
   },
   "outputs": [
    {
     "name": "stdout",
     "output_type": "stream",
     "text": [
      "[[0.35882619 0.13103422 0.5346407 ]]\n"
     ]
    },
    {
     "data": {
      "text/plain": [
       "(1, 3)"
      ]
     },
     "execution_count": 25,
     "metadata": {},
     "output_type": "execute_result"
    }
   ],
   "source": [
    "\n",
    "# Definir W , cantidad de caracteristicas + 1\n",
    "W = numpy.array([numpy.random.rand(\n",
    "    numpy.size(X,1) + 1\n",
    ")])\n",
    "print(W)\n",
    "W.shape"
   ]
  },
  {
   "cell_type": "code",
   "execution_count": 26,
   "metadata": {
    "id": "FnJi_ck8chYP"
   },
   "outputs": [],
   "source": [
    "def capaDeNeurona(X, W):\n",
    "  arregloDeUnos = numpy.array(\n",
    "    numpy.ones(\n",
    "        (numpy.size(X,0),1),\n",
    "        dtype=int\n",
    "        )\n",
    "  )\n",
    "  X_red = numpy.append(arregloDeUnos, X, axis=1)\n",
    "\n",
    "  X_transpuesta = X_red.transpose()\n",
    "\n",
    "  #print(f'shape W:\\n{W.shape}')\n",
    "  #print(f'shape X_transpuesta:\\n{X_transpuesta.shape}')\n",
    "  z = numpy.matmul(W, X_transpuesta)\n",
    "  \n",
    "  #print(f'shape z:\\n{z.shape}')\n",
    "  #print(f'Value z:\\n{z}')\n",
    "  a = sigmoid(z)\n",
    "  return a"
   ]
  },
  {
   "cell_type": "code",
   "execution_count": 27,
   "metadata": {
    "colab": {
     "base_uri": "https://localhost:8080/"
    },
    "id": "09uzM78jeKOt",
    "outputId": "50b61490-0654-487b-b7de-563e263e271f"
   },
   "outputs": [
    {
     "data": {
      "text/plain": [
       "array([[1.        , 1.        , 0.99999917, 1.        ]])"
      ]
     },
     "execution_count": 27,
     "metadata": {},
     "output_type": "execute_result"
    }
   ],
   "source": [
    "prediction = capaDeNeurona(X, W)\n",
    "prediction"
   ]
  },
  {
   "cell_type": "code",
   "execution_count": 28,
   "metadata": {
    "id": "cGyzXxI9lU4H"
   },
   "outputs": [],
   "source": [
    "def costMatriz(pred, Y):\n",
    "  m = len(Y)\n",
    "  diff = (pred - Y) ** 2\n",
    "\n",
    "  #print(f'diff:\\n{diff}')\n",
    "\n",
    "  J = (1/(2 * m)) * numpy.sum(diff)\n",
    "  return J"
   ]
  },
  {
   "cell_type": "code",
   "execution_count": 29,
   "metadata": {
    "colab": {
     "base_uri": "https://localhost:8080/"
    },
    "id": "g8gzdIZmmHwA",
    "outputId": "e07286bb-26cf-40d5-80ba-efb1525d096d"
   },
   "outputs": [
    {
     "data": {
      "text/plain": [
       "102236000.50208896"
      ]
     },
     "execution_count": 29,
     "metadata": {},
     "output_type": "execute_result"
    }
   ],
   "source": [
    "costMatriz(prediction, Y)"
   ]
  }
 ],
 "metadata": {
  "colab": {
   "authorship_tag": "ABX9TyMOhEJY68rXrXO9pQ02pwzT",
   "collapsed_sections": [],
   "include_colab_link": true,
   "mount_file_id": "1hGZx3H5TzMYoU6U5KKXh1BhTsa7t932F",
   "name": "NN sigmoid y FC.ipynb",
   "provenance": []
  },
  "kernelspec": {
   "display_name": "Python 3",
   "language": "python",
   "name": "python3"
  },
  "language_info": {
   "codemirror_mode": {
    "name": "ipython",
    "version": 3
   },
   "file_extension": ".py",
   "mimetype": "text/x-python",
   "name": "python",
   "nbconvert_exporter": "python",
   "pygments_lexer": "ipython3",
   "version": "3.8.10"
  }
 },
 "nbformat": 4,
 "nbformat_minor": 1
}
